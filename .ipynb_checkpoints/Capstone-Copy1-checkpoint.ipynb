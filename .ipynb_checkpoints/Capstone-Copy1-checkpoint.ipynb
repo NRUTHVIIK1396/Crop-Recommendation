{
 "cells": [
  {
   "cell_type": "code",
   "execution_count": 36,
   "id": "2c416155",
   "metadata": {},
   "outputs": [],
   "source": [
    "import matplotlib.pyplot as plt\n",
    "import seaborn as sns\n",
    "import pandas as pd\n",
    "import numpy as np"
   ]
  },
  {
   "cell_type": "code",
   "execution_count": 37,
   "id": "6150d014",
   "metadata": {},
   "outputs": [],
   "source": [
    "crop = pd.read_csv(\"Crop_recommendation.csv\")"
   ]
  },
  {
   "cell_type": "code",
   "execution_count": 38,
   "id": "c7f8fd68",
   "metadata": {},
   "outputs": [
    {
     "data": {
      "text/html": [
       "<div>\n",
       "<style scoped>\n",
       "    .dataframe tbody tr th:only-of-type {\n",
       "        vertical-align: middle;\n",
       "    }\n",
       "\n",
       "    .dataframe tbody tr th {\n",
       "        vertical-align: top;\n",
       "    }\n",
       "\n",
       "    .dataframe thead th {\n",
       "        text-align: right;\n",
       "    }\n",
       "</style>\n",
       "<table border=\"1\" class=\"dataframe\">\n",
       "  <thead>\n",
       "    <tr style=\"text-align: right;\">\n",
       "      <th></th>\n",
       "      <th>N</th>\n",
       "      <th>P</th>\n",
       "      <th>K</th>\n",
       "      <th>temperature</th>\n",
       "      <th>humidity</th>\n",
       "      <th>ph</th>\n",
       "      <th>rainfall</th>\n",
       "      <th>label</th>\n",
       "    </tr>\n",
       "  </thead>\n",
       "  <tbody>\n",
       "    <tr>\n",
       "      <th>0</th>\n",
       "      <td>90</td>\n",
       "      <td>42</td>\n",
       "      <td>43</td>\n",
       "      <td>20.879744</td>\n",
       "      <td>82.002744</td>\n",
       "      <td>6.502985</td>\n",
       "      <td>202.935536</td>\n",
       "      <td>rice</td>\n",
       "    </tr>\n",
       "    <tr>\n",
       "      <th>1</th>\n",
       "      <td>85</td>\n",
       "      <td>58</td>\n",
       "      <td>41</td>\n",
       "      <td>21.770462</td>\n",
       "      <td>80.319644</td>\n",
       "      <td>7.038096</td>\n",
       "      <td>226.655537</td>\n",
       "      <td>rice</td>\n",
       "    </tr>\n",
       "    <tr>\n",
       "      <th>2</th>\n",
       "      <td>60</td>\n",
       "      <td>55</td>\n",
       "      <td>44</td>\n",
       "      <td>23.004459</td>\n",
       "      <td>82.320763</td>\n",
       "      <td>7.840207</td>\n",
       "      <td>263.964248</td>\n",
       "      <td>rice</td>\n",
       "    </tr>\n",
       "    <tr>\n",
       "      <th>3</th>\n",
       "      <td>74</td>\n",
       "      <td>35</td>\n",
       "      <td>40</td>\n",
       "      <td>26.491096</td>\n",
       "      <td>80.158363</td>\n",
       "      <td>6.980401</td>\n",
       "      <td>242.864034</td>\n",
       "      <td>rice</td>\n",
       "    </tr>\n",
       "    <tr>\n",
       "      <th>4</th>\n",
       "      <td>78</td>\n",
       "      <td>42</td>\n",
       "      <td>42</td>\n",
       "      <td>20.130175</td>\n",
       "      <td>81.604873</td>\n",
       "      <td>7.628473</td>\n",
       "      <td>262.717340</td>\n",
       "      <td>rice</td>\n",
       "    </tr>\n",
       "  </tbody>\n",
       "</table>\n",
       "</div>"
      ],
      "text/plain": [
       "    N   P   K  temperature   humidity        ph    rainfall label\n",
       "0  90  42  43    20.879744  82.002744  6.502985  202.935536  rice\n",
       "1  85  58  41    21.770462  80.319644  7.038096  226.655537  rice\n",
       "2  60  55  44    23.004459  82.320763  7.840207  263.964248  rice\n",
       "3  74  35  40    26.491096  80.158363  6.980401  242.864034  rice\n",
       "4  78  42  42    20.130175  81.604873  7.628473  262.717340  rice"
      ]
     },
     "execution_count": 38,
     "metadata": {},
     "output_type": "execute_result"
    }
   ],
   "source": [
    "crop.head()"
   ]
  },
  {
   "cell_type": "code",
   "execution_count": 39,
   "id": "054f4fb6",
   "metadata": {},
   "outputs": [
    {
     "name": "stdout",
     "output_type": "stream",
     "text": [
      "<class 'pandas.core.frame.DataFrame'>\n",
      "RangeIndex: 2200 entries, 0 to 2199\n",
      "Data columns (total 8 columns):\n",
      " #   Column       Non-Null Count  Dtype  \n",
      "---  ------       --------------  -----  \n",
      " 0   N            2200 non-null   int64  \n",
      " 1   P            2200 non-null   int64  \n",
      " 2   K            2200 non-null   int64  \n",
      " 3   temperature  2200 non-null   float64\n",
      " 4   humidity     2200 non-null   float64\n",
      " 5   ph           2200 non-null   float64\n",
      " 6   rainfall     2200 non-null   float64\n",
      " 7   label        2200 non-null   object \n",
      "dtypes: float64(4), int64(3), object(1)\n",
      "memory usage: 137.6+ KB\n"
     ]
    }
   ],
   "source": [
    "crop.info()"
   ]
  },
  {
   "cell_type": "code",
   "execution_count": 40,
   "id": "0a2302ff",
   "metadata": {},
   "outputs": [
    {
     "data": {
      "text/plain": [
       "False"
      ]
     },
     "execution_count": 40,
     "metadata": {},
     "output_type": "execute_result"
    }
   ],
   "source": [
    "crop.isnull().values.any()"
   ]
  },
  {
   "cell_type": "code",
   "execution_count": 41,
   "id": "40bbcc13",
   "metadata": {},
   "outputs": [
    {
     "data": {
      "text/plain": [
       "label\n",
       "rice           100\n",
       "maize          100\n",
       "jute           100\n",
       "cotton         100\n",
       "coconut        100\n",
       "papaya         100\n",
       "orange         100\n",
       "apple          100\n",
       "muskmelon      100\n",
       "watermelon     100\n",
       "grapes         100\n",
       "mango          100\n",
       "banana         100\n",
       "pomegranate    100\n",
       "lentil         100\n",
       "blackgram      100\n",
       "mungbean       100\n",
       "mothbeans      100\n",
       "pigeonpeas     100\n",
       "kidneybeans    100\n",
       "chickpea       100\n",
       "coffee         100\n",
       "Name: count, dtype: int64"
      ]
     },
     "execution_count": 41,
     "metadata": {},
     "output_type": "execute_result"
    }
   ],
   "source": [
    "crop['label'].value_counts()"
   ]
  },
  {
   "cell_type": "code",
   "execution_count": 42,
   "id": "ed6d118b",
   "metadata": {},
   "outputs": [],
   "source": [
    "from sklearn.neighbors import KNeighborsClassifier\n",
    "from sklearn.preprocessing import StandardScaler, OneHotEncoder\n",
    "from sklearn.model_selection import train_test_split, GridSearchCV\n",
    "from sklearn.compose import make_column_transformer\n",
    "from sklearn.pipeline import Pipeline"
   ]
  },
  {
   "cell_type": "code",
   "execution_count": 43,
   "id": "b508834d",
   "metadata": {},
   "outputs": [],
   "source": [
    "X_train, X_test, y_train, y_test = train_test_split(crop.drop('label', axis = 1), \n",
    "                                                    crop['label'],\n",
    "                                                   random_state=42)"
   ]
  },
  {
   "cell_type": "code",
   "execution_count": 44,
   "id": "6f55be5d",
   "metadata": {},
   "outputs": [],
   "source": [
    "transformer = make_column_transformer((StandardScaler(), crop.drop('label', axis = 1).columns.tolist()), remainder='passthrough')\n",
    "knn_pipe = Pipeline([('transform', transformer), ('knn', KNeighborsClassifier())])"
   ]
  },
  {
   "cell_type": "code",
   "execution_count": 45,
   "id": "9a9c9ade",
   "metadata": {},
   "outputs": [],
   "source": [
    "params = {'knn__n_neighbors': list(range(1, 22, 2)),\n",
    "         'knn__weights': ['uniform', 'distance'],\n",
    "         'knn__p': [1,2]}"
   ]
  },
  {
   "cell_type": "code",
   "execution_count": 46,
   "id": "4324bb83",
   "metadata": {},
   "outputs": [
    {
     "data": {
      "text/plain": [
       "564       mothbeans\n",
       "916     pomegranate\n",
       "1700         papaya\n",
       "436      pigeonpeas\n",
       "1555          apple\n",
       "Name: label, dtype: object"
      ]
     },
     "execution_count": 46,
     "metadata": {},
     "output_type": "execute_result"
    }
   ],
   "source": [
    "y_train.head()"
   ]
  },
  {
   "cell_type": "code",
   "execution_count": 47,
   "id": "6445c346",
   "metadata": {},
   "outputs": [
    {
     "name": "stdout",
     "output_type": "stream",
     "text": [
      "done\n",
      "1\n",
      "0.9618181818181818\n",
      "{'knn__n_neighbors': 1, 'knn__p': 2, 'knn__weights': 'uniform'}\n"
     ]
    }
   ],
   "source": [
    "knn_grid = GridSearchCV(knn_pipe, param_grid=params)\n",
    "knn_grid.fit(X_train, y_train)\n",
    "best_k = list(knn_grid.best_params_.values())[0]\n",
    "best_acc = knn_grid.score(X_test, y_test)\n",
    "print(\"done\")\n",
    "print(best_k)\n",
    "print(best_acc)\n",
    "print(knn_grid.best_params_)"
   ]
  },
  {
   "cell_type": "raw",
   "id": "8bef00ec",
   "metadata": {},
   "source": []
  },
  {
   "cell_type": "raw",
   "id": "a913ca5d",
   "metadata": {},
   "source": []
  },
  {
   "cell_type": "code",
   "execution_count": 48,
   "id": "55808585",
   "metadata": {},
   "outputs": [],
   "source": [
    "from sklearn.linear_model import Lasso\n",
    "from sklearn.model_selection import train_test_split\n",
    "from sklearn.preprocessing import StandardScaler\n",
    "from sklearn.metrics import mean_squared_error, r2_score"
   ]
  },
  {
   "cell_type": "code",
   "execution_count": 50,
   "id": "1b97a5a0",
   "metadata": {},
   "outputs": [
    {
     "name": "stdout",
     "output_type": "stream",
     "text": [
      "[ 0  0  0 ... 21 21 21]\n"
     ]
    }
   ],
   "source": [
    "y_encoded = pd.factorize(crop['label'])[0]\n",
    "print(y_encoded)"
   ]
  },
  {
   "cell_type": "code",
   "execution_count": 52,
   "id": "e313f387",
   "metadata": {},
   "outputs": [],
   "source": [
    "X_train, X_test, y_train, y_test = train_test_split(crop.drop('label', axis = 1), \n",
    "                                                    y_encoded,\n",
    "                                                   random_state=42)"
   ]
  },
  {
   "cell_type": "code",
   "execution_count": 53,
   "id": "32483af6",
   "metadata": {},
   "outputs": [],
   "source": [
    "scaler = StandardScaler()\n",
    "X_train_scaled = scaler.fit_transform(X_train)\n",
    "X_test_scaled = scaler.transform(X_test)"
   ]
  },
  {
   "cell_type": "code",
   "execution_count": 54,
   "id": "425b14f2",
   "metadata": {},
   "outputs": [
    {
     "name": "stdout",
     "output_type": "stream",
     "text": [
      "[16.32356511 15.95042403 15.4799117  13.59354791 12.87116941  8.141445\n",
      " 12.81797255  6.8083466  10.38255444  4.79903712  8.0193321  13.2417287\n",
      " 12.83348151 12.92157251 14.48414434 14.12477911 13.46190523 10.86914357\n",
      " 13.28231658 16.49963237 11.9280098  14.54602219 10.59844488 13.0049492\n",
      "  5.03653395 13.31036487  9.80688259 12.90813023  5.27150289 12.03591682\n",
      " 12.09304005  7.15106115 13.09471135  4.21850938 13.68754155  8.25260677\n",
      " 14.01774289  2.82605379  3.7526341   1.34710784 13.11332995  8.90113819\n",
      "  7.67907198  8.79384465 11.33616316  7.46752743  6.34928417 15.57399997\n",
      " 15.11866449 10.00019738  8.36775087 10.40912625 12.34784702 10.82627388\n",
      " 12.14616656  0.84163577 12.15547346 12.78861217 11.66044281  7.12441883\n",
      " 16.12320638 14.13060463  8.08496947 12.37398977 12.59249487  7.68268972\n",
      " 14.10270905 13.83087369 16.28749355  5.48532731 15.89304669 15.192363\n",
      " 12.04800748 10.60560092  7.60662007 15.53234506 10.87760208 12.93420362\n",
      " 15.17332553 11.15554438 12.69874422  3.27875469 13.4807923   9.4267701\n",
      " 14.86436897  8.74248404 10.9999225   5.5447264   8.28385948 13.40253257\n",
      "  7.77852707  9.36235536 12.93015937 13.22851347  6.84536511  5.59766131\n",
      "  1.11757058 13.68375722  7.73701719  6.52794938 12.87379903 12.86342032\n",
      " 10.5499729  16.9296958  15.95086415  1.98822101 15.44565539 10.7194696\n",
      "  5.0256012   4.7071235   9.75147224 12.05201864 11.92718615 11.39051927\n",
      "  4.35185494  5.75608689  8.54707474 15.33040842 12.94414654 13.19295665\n",
      "  7.35946406 11.82830868  7.02169236 13.3213809   3.14197234  8.17714136\n",
      " 14.26047909  9.31317179 10.99771474  5.60314432 11.23872236  0.74289815\n",
      " 11.81284842  5.94231191 13.6214856  12.40097406  7.84615103 11.12455787\n",
      " 10.2959086  13.41301667  1.21648128 15.3815316  10.17026352  7.00810099\n",
      " 12.48792225 11.59098683 12.37430513 14.82051141  2.09741685  6.01970142\n",
      "  9.38131395  6.87967824 16.23654861 10.67695154  9.12366752  5.43692875\n",
      "  4.27564233  0.46400872  8.4210904  12.84878224  5.14989598 12.54405869\n",
      " 12.03927024 11.95188701 11.56533356 13.11638376 15.38848906  6.5667389\n",
      " 16.08328135 10.31469087 15.32931157  8.62175852 12.74373827  2.94696669\n",
      " 14.11156252  9.79955961  7.26863608 14.15447786 16.02745211 12.66676953\n",
      " 12.88617635 12.90069314  1.45529966 12.96486376  4.80483931  0.36461022\n",
      "  9.78717549  2.07825725 14.70916745 13.01865313 14.01356034 10.5138784\n",
      "  9.52667534 12.28460624 16.35217529  1.65994931  8.68714847 12.85780776\n",
      "  8.91922342  3.30438787 11.03267832 10.6409109  12.07165011 12.1506074\n",
      " 13.22733488 13.33613588 10.65286144 10.57554479 12.31109349 11.89388728\n",
      "  9.74791556  5.66627084  5.15332631  3.21009784 13.94779478 13.28954742\n",
      "  2.4785028  12.23797387 11.55363157  8.94897121  1.53325806  9.08789976\n",
      "  7.28403374 13.96830882 16.34613311 13.28359065  4.15410025 13.58397477\n",
      "  4.86868866 16.3283981  14.04846135 14.94699096 14.99844771  7.87738603\n",
      "  9.85253258 12.061645   13.57066816 12.95990945 14.55815674 16.57087665\n",
      " 11.80039395 15.44272199  6.79961966  9.78926857  9.008742   15.93250398\n",
      "  5.92126041  9.78352874 10.77701518  9.75544998 15.25095199 11.17169578\n",
      "  5.5312724  13.00652433 13.85340282 12.24599192 13.22605713  3.57717384\n",
      " 11.59001214 14.66897326 10.63966135 11.70741097 13.86936921 13.36549244\n",
      "  4.57820549 12.56115117  2.99399529  9.14573061  8.98691489 11.18191551\n",
      " 13.54032899 13.72846969  9.16214685 12.70491947  9.59673887 15.14767417\n",
      " 10.04912655  5.78315056 11.30775276 13.97822101 15.27092812 13.30736709\n",
      "  9.01706633 15.1612382  13.25319554 11.82458775  6.30687162  7.92423408\n",
      " 11.9884915   3.83290701 14.61481944 11.24526591 13.76352273  5.05410031\n",
      " 11.94466879  7.97482852 13.35708088 13.90293439 14.80944794 15.6469067\n",
      " 16.59972568  8.21600919 14.23106964  6.83959973 13.21646771  4.75892155\n",
      " 11.91237691  7.06513646 13.67100893 12.49253135  3.37633306  8.11415605\n",
      "  5.95961859 13.0599318  14.55565769  0.1762361   9.77611907 16.23841661\n",
      " 15.33410357  1.26233885 15.87775825  8.94243167 12.86944739  9.05726287\n",
      "  4.84206421 11.02253815  6.86006774  7.15188455 14.0986188   2.24846405\n",
      "  9.83450529 13.77044562 12.26623493 13.86131841 13.52690912  6.89596044\n",
      " 11.6383335  12.28723843 13.10956917 12.28318038 14.35684052 11.30772995\n",
      " 16.60416062 12.85948881 12.95130033  6.03477086 13.74876705  0.69393544\n",
      " 10.56939131  8.19624353 12.84546082  8.76204467  4.25178092  7.55565653\n",
      "  0.47039508 12.20986486 14.17225085  6.74495503  6.14262466 14.82612874\n",
      "  5.86406053  2.33512983  8.52807879 12.07919615 15.0982938   6.01891694\n",
      " 11.96011448 10.48156365 10.60854764 12.70642912  8.11227801 11.06339202\n",
      " 13.34692097 10.8636746   3.70457572 14.68874536 13.07656249 13.6446008\n",
      "  9.34728538 10.21507905 14.74391302 13.82109035  6.39687644 12.52565482\n",
      "  7.9436175   5.43401862 14.60819726  7.72578985 12.19667005  9.52677319\n",
      " 11.85278032 15.81211873 12.45812793 11.74295217 15.5192036  12.92154332\n",
      " 15.87417981 13.44123028  9.73107475  9.09906214 12.18716337 12.53198436\n",
      " 11.6027306  12.11804912 11.77690351 12.0361778  11.83186843  8.887589\n",
      " 14.9507458  16.52710266  4.22692047 11.70393432  3.61953849  5.72544598\n",
      " 13.72141287 15.78985925  6.91398509 12.17207624 14.95983719 14.22696764\n",
      "  7.58357594 13.48305892 13.03336343  4.27328951  9.76522287  7.55399587\n",
      " 14.20291724 10.09670414 14.54417264 10.41352243 14.0087144   1.69564754\n",
      " 15.48757139  9.55919377  9.47441892 13.07813109 13.5902207  12.41999052\n",
      " 10.60235235  2.40732954 11.0643462   7.2750328   6.32236221 11.09458741\n",
      "  9.55034791  7.83353275 12.84331345 11.68753725 10.1090156  13.1352232\n",
      " 11.16240808  7.76870621  4.97366882 13.60995146 12.34285832  4.63015936\n",
      " 12.34926237 13.93877141 14.14848319 16.02084915  5.94167303 10.88094651\n",
      " 12.57957546 11.67913104  9.69041349  8.15589424  1.25999443 14.52010198\n",
      " 10.24241764 10.71784177  8.72097014 11.61231966 13.10740351  4.74098803\n",
      " 11.14666472 13.20182591 17.37383812  7.97473972 14.87370992 14.75218548\n",
      " 12.79745647  1.12731923  4.33939008  9.91930008  9.72499845  9.21116843\n",
      "  6.37331159 16.17563701  8.06704119  8.67226888  4.35865456 16.80345163\n",
      " 13.63042994 11.8467771  15.46357762  4.15325776 13.62021476 11.12747684\n",
      " 13.69091095  1.65519362 13.53514921 14.13041575  9.66913024 12.98465659\n",
      "  4.81395025 11.35124304 13.2038043   2.6328465  13.51866342  6.96840992\n",
      " 11.15405948  3.56872137 16.12601311 12.49118836  1.5133243   4.90390453\n",
      " 10.25691662 13.91149533 12.16197797 13.78514668 16.43577347 11.43966542\n",
      " 13.58493929 10.86905333  7.14974406  8.10900131 12.47712829  8.02311209\n",
      " 12.46671753  9.96753683  7.24888811 12.5921805   9.29505716 13.64909352\n",
      " 11.58667894 14.47539829 12.76756514  7.26769606  8.17854083 15.99940993\n",
      " 13.36545665  8.41521391 12.85495793  7.62535928 13.72411882 10.81807654\n",
      " 13.57736467  4.67344545 11.70654372 14.00087104]\n"
     ]
    }
   ],
   "source": [
    "lasso = Lasso(alpha=0.01)\n",
    "lasso.fit(X_train_scaled, y_train)\n",
    "y_pred = lasso.predict(X_test_scaled)\n",
    "print(y_pred)"
   ]
  },
  {
   "cell_type": "code",
   "execution_count": 55,
   "id": "52add61e",
   "metadata": {},
   "outputs": [],
   "source": [
    "mse = mean_squared_error(y_test, y_pred)"
   ]
  },
  {
   "cell_type": "code",
   "execution_count": 56,
   "id": "865f28ff",
   "metadata": {},
   "outputs": [
    {
     "name": "stdout",
     "output_type": "stream",
     "text": [
      "Mean Squared Error: 25.038191185166134\n",
      "R^2 Score: 0.39827341795532323\n"
     ]
    }
   ],
   "source": [
    "r2 = r2_score(y_test, y_pred)\n",
    "\n",
    "print(f\"Mean Squared Error: {mse}\")\n",
    "print(f\"R^2 Score: {r2}\")"
   ]
  },
  {
   "cell_type": "code",
   "execution_count": 57,
   "id": "e0e86b2b",
   "metadata": {},
   "outputs": [],
   "source": [
    "coefficients = lasso.coef_"
   ]
  },
  {
   "cell_type": "code",
   "execution_count": 58,
   "id": "859b54bd",
   "metadata": {},
   "outputs": [
    {
     "name": "stdout",
     "output_type": "stream",
     "text": [
      "[ 1.0961919  -2.1419019   2.42699297  0.76047823  2.15749895  0.46246361\n",
      "  0.49345327]\n"
     ]
    }
   ],
   "source": [
    "print(coefficients)"
   ]
  },
  {
   "cell_type": "code",
   "execution_count": 62,
   "id": "ed9db7e5",
   "metadata": {},
   "outputs": [],
   "source": [
    "features = crop.drop('label', axis = 1).columns"
   ]
  },
  {
   "cell_type": "code",
   "execution_count": 63,
   "id": "0251130a",
   "metadata": {},
   "outputs": [],
   "source": [
    "coef_df = pd.DataFrame({\n",
    "    'Feature': features,\n",
    "    'Coefficient': coefficients\n",
    "}).sort_values(by='Coefficient', ascending=False)"
   ]
  },
  {
   "cell_type": "code",
   "execution_count": 64,
   "id": "78e943ef",
   "metadata": {},
   "outputs": [
    {
     "name": "stdout",
     "output_type": "stream",
     "text": [
      "       Feature  Coefficient\n",
      "2            K     2.426993\n",
      "4     humidity     2.157499\n",
      "0            N     1.096192\n",
      "3  temperature     0.760478\n",
      "6     rainfall     0.493453\n",
      "5           ph     0.462464\n",
      "1            P    -2.141902\n"
     ]
    }
   ],
   "source": [
    "print(coef_df)"
   ]
  },
  {
   "cell_type": "code",
   "execution_count": null,
   "id": "f7712e1d",
   "metadata": {},
   "outputs": [],
   "source": []
  }
 ],
 "metadata": {
  "kernelspec": {
   "display_name": "Python 3 (ipykernel)",
   "language": "python",
   "name": "python3"
  },
  "language_info": {
   "codemirror_mode": {
    "name": "ipython",
    "version": 3
   },
   "file_extension": ".py",
   "mimetype": "text/x-python",
   "name": "python",
   "nbconvert_exporter": "python",
   "pygments_lexer": "ipython3",
   "version": "3.11.7"
  }
 },
 "nbformat": 4,
 "nbformat_minor": 5
}
